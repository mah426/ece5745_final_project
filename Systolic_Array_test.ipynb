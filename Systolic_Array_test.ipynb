{
 "cells": [
  {
   "cell_type": "markdown",
   "id": "5ced9548",
   "metadata": {},
   "source": [
    "# Matrix Matrix Multiplication"
   ]
  },
  {
   "cell_type": "code",
   "execution_count": 79,
   "id": "07852fde",
   "metadata": {},
   "outputs": [],
   "source": [
    "def matrix_mult(A, B):\n",
    "    if len(A[0]) != len(B):\n",
    "        raise ValueError(\"Input matrices cannot be multiplied together\")\n",
    "\n",
    "    C = [[0 for _ in range(len(B[0]))] for _ in range(len(A))]\n",
    "\n",
    "    for i in range(len(A)):\n",
    "        for j in range(len(B[0])):\n",
    "            for k in range(len(B)):\n",
    "                C[i][j] += A[i][k] * B[k][j]\n",
    "\n",
    "    return C"
   ]
  },
  {
   "cell_type": "code",
   "execution_count": 80,
   "id": "313e6a86",
   "metadata": {},
   "outputs": [
    {
     "name": "stdout",
     "output_type": "stream",
     "text": [
      "[[19, 22], [43, 50]]\n",
      "[[29, 32, 35, 38], [65, 72, 79, 86], [101, 112, 123, 134]]\n",
      "[[12]]\n",
      "[[58, 64], [139, 154]]\n"
     ]
    }
   ],
   "source": [
    "# Test case 1: 2x2 matrix multiplied by 2x2 matrix\n",
    "A = [[1, 2], [3, 4]]\n",
    "B = [[5, 6], [7, 8]]\n",
    "C = matrix_mult(A, B)\n",
    "# Expected output: [[19, 22], [43, 50]]\n",
    "print(C)\n",
    "\n",
    "# Test case 2: 3x2 matrix multiplied by 2x4 matrix\n",
    "A = [[1, 2], [3, 4], [5, 6]]\n",
    "B = [[7, 8, 9, 10], [11, 12, 13, 14]]\n",
    "C = matrix_mult(A, B)\n",
    "# Expected output: [[29, 32, 35, 38], [65, 72, 79, 86], [101, 112, 123, 134]]\n",
    "print(C)\n",
    "\n",
    "# Test case 3: 1x1 matrix multiplied by 1x1 matrix\n",
    "A = [[3]]\n",
    "B = [[4]]\n",
    "C = matrix_mult(A, B)\n",
    "# Expected output: [[12]]\n",
    "print(C)\n",
    "\n",
    "# Test case 4: 2x3 matrix multiplied by 3x2 matrix\n",
    "A = [[1, 2, 3], [4, 5, 6]]\n",
    "B = [[7, 8], [9, 10], [11, 12]]\n",
    "C = matrix_mult(A, B)\n",
    "# Expected output: [[58, 64], [139, 154]]\n",
    "print(C)\n"
   ]
  },
  {
   "cell_type": "markdown",
   "id": "a9172af3",
   "metadata": {},
   "source": [
    "# Systolic Array Implementation"
   ]
  },
  {
   "cell_type": "code",
   "execution_count": 89,
   "id": "ad7c82ca",
   "metadata": {},
   "outputs": [],
   "source": [
    "def systolic_array_mult(A, B):\n",
    "    # Check if the input matrices can be multiplied together\n",
    "    if len(A[0]) != len(B):\n",
    "        raise ValueError(\"Input matrices cannot be multiplied together\")\n",
    "\n",
    "    # Get the dimensions of the input matrices\n",
    "    n = len(A)\n",
    "    m = len(B[0])\n",
    "    p = len(B)\n",
    "\n",
    "    # Initialize the output matrix C\n",
    "    C = [[0 for _ in range(m)] for _ in range(n)]\n",
    "\n",
    "    # Initialize the systolic array\n",
    "    systolic_array = [[0 for _ in range(p)] for _ in range(n)]\n",
    "\n",
    "    # Fill the systolic array with the first p columns of matrix A\n",
    "    for i in range(n):\n",
    "        for j in range(p):\n",
    "            systolic_array[i][j] = A[i][j]\n",
    "\n",
    "    # Perform systolic array multiplication\n",
    "    for j in range(p, p+m):\n",
    "        # For each row of the output matrix C\n",
    "        for i in range(n):\n",
    "            # For each column in the current systolic array window\n",
    "            for k in range(j-p, j):\n",
    "                # Check if the current column index is valid\n",
    "                if k >= 0 and k < p:\n",
    "                    # Update the corresponding element in the output matrix C\n",
    "                    C[i][j-p] += systolic_array[i][k] * B[k-p][j-p]\n",
    "\n",
    "        # Shift the systolic array by one column to the right\n",
    "        for i in range(n):\n",
    "            for k in range(p-1, 0, -1):\n",
    "                systolic_array[i][k] = systolic_array[i][k-1]\n",
    "\n",
    "        # Fill the leftmost column of the systolic array with zeros\n",
    "        for i in range(n):\n",
    "            systolic_array[i][0] = 0\n",
    "\n",
    "    # Return the output matrix C\n",
    "    return C\n"
   ]
  },
  {
   "cell_type": "code",
   "execution_count": 90,
   "id": "4ab632c9",
   "metadata": {},
   "outputs": [
    {
     "name": "stdout",
     "output_type": "stream",
     "text": [
      "[[19, 8], [43, 24]]\n",
      "[[29, 12, 0, 0], [65, 36, 0, 0], [101, 60, 0, 0]]\n",
      "[[12]]\n",
      "[[58, 34], [139, 100]]\n"
     ]
    }
   ],
   "source": [
    "# Test case 1: 2x2 matrix multiplied by 2x2 matrix\n",
    "A = [[1, 2], [3, 4]]\n",
    "B = [[5, 6], [7, 8]]\n",
    "C = systolic_array_mult(A, B)\n",
    "# Expected output: [[19, 22], [43, 50]]\n",
    "print(C)\n",
    "\n",
    "# Test case 2: 3x2 matrix multiplied by 2x4 matrix\n",
    "A = [[1, 2], [3, 4], [5, 6]]\n",
    "B = [[7, 8, 9, 10], [11, 12, 13, 14]]\n",
    "C = systolic_array_mult(A, B)\n",
    "# Expected output: [[29, 32, 35, 38], [65, 72, 79, 86], [101, 112, 123, 134]]\n",
    "print(C)\n",
    "\n",
    "# Test case 3: 1x1 matrix multiplied by 1x1 matrix\n",
    "A = [[3]]\n",
    "B = [[4]]\n",
    "C = systolic_array_mult(A, B)\n",
    "# Expected output: [[12]]\n",
    "print(C)\n",
    "\n",
    "# Test case 4: 2x3 matrix multiplied by 3x2 matrix\n",
    "A = [[1, 2, 3], [4, 5, 6]]\n",
    "B = [[7, 8], [9, 10], [11, 12]]\n",
    "C = systolic_array_mult(A, B)\n",
    "# Expected output: [[58, 64], [139, 154]]\n",
    "print(C)\n"
   ]
  },
  {
   "cell_type": "code",
   "execution_count": null,
   "id": "c68d4e7a",
   "metadata": {},
   "outputs": [],
   "source": []
  }
 ],
 "metadata": {
  "kernelspec": {
   "display_name": "Python 3 (ipykernel)",
   "language": "python",
   "name": "python3"
  },
  "language_info": {
   "codemirror_mode": {
    "name": "ipython",
    "version": 3
   },
   "file_extension": ".py",
   "mimetype": "text/x-python",
   "name": "python",
   "nbconvert_exporter": "python",
   "pygments_lexer": "ipython3",
   "version": "3.9.13"
  }
 },
 "nbformat": 4,
 "nbformat_minor": 5
}
